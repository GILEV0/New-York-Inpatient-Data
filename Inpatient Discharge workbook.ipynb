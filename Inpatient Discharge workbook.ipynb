{
 "cells": [
  {
   "cell_type": "code",
   "execution_count": null,
   "id": "41adcb08",
   "metadata": {},
   "outputs": [],
   "source": [
    "import pandas as pd"
   ]
  },
  {
   "cell_type": "code",
   "execution_count": null,
   "id": "b3994e24",
   "metadata": {},
   "outputs": [],
   "source": [
    "import os"
   ]
  },
  {
   "cell_type": "code",
   "execution_count": null,
   "id": "0dcc50c4",
   "metadata": {},
   "outputs": [],
   "source": [
    "import numpy as np"
   ]
  },
  {
   "cell_type": "markdown",
   "id": "86388f91",
   "metadata": {},
   "source": [
    "# Step 1: Data Cleaning and Exploration"
   ]
  },
  {
   "cell_type": "code",
   "execution_count": null,
   "id": "07efdc4f",
   "metadata": {
    "scrolled": true
   },
   "outputs": [],
   "source": [
    "Inpatient_Discharges_Data = pd.read_csv('Copy of Copy of Inpatient_Discharges_Data.csv')\n",
    "\n",
    "Inpatient_Discharges_Data.head()"
   ]
  },
  {
   "cell_type": "code",
   "execution_count": null,
   "id": "b966e6d4",
   "metadata": {},
   "outputs": [],
   "source": [
    "# Drop column not used for Tableau \n",
    "clean_data = Inpatient_Discharges_Data.drop(columns='Permanent Facility Id')\n",
    "\n",
    "clean_data.head()"
   ]
  },
  {
   "cell_type": "code",
   "execution_count": null,
   "id": "0645beec",
   "metadata": {},
   "outputs": [],
   "source": [
    "# Remove \"u\" from the gender column\n",
    "clean_data[\"Gender\"] = clean_data[\"Gender\"].str.replace(\"U\", \"\")\n",
    "\n",
    "clean_data.to_csv('clean_data.csv')\n",
    "\n",
    "clean_data.head(50)\n"
   ]
  },
  {
   "cell_type": "code",
   "execution_count": null,
   "id": "f302b809",
   "metadata": {},
   "outputs": [],
   "source": [
    "import matplotlib.pyplot as plt\n",
    "import seaborn as sns\n",
    "# Check for missing values\n",
    "missing_values = clean_data[\"Length of Stay\"].isnull().sum()\n",
    "print(\"Number of missing values in 'Length of Stay':\", missing_values)"
   ]
  },
  {
   "cell_type": "code",
   "execution_count": null,
   "id": "8c765674",
   "metadata": {},
   "outputs": [],
   "source": [
    "# Check for outliers using a box plot\n",
    "plt.figure(figsize=(8, 6))\n",
    "sns.boxplot(clean_data[\"Length of Stay\"])\n",
    "plt.title(\"Box Plot of Length of Stay\")\n",
    "plt.show()"
   ]
  },
  {
   "cell_type": "code",
   "execution_count": null,
   "id": "4bf7f2f6",
   "metadata": {},
   "outputs": [],
   "source": [
    "# Calculate basic statistics\n",
    "mean_length_of_stay = clean_data[\"Length of Stay\"].mean()\n",
    "median_length_of_stay = clean_data[\"Length of Stay\"].median()\n",
    "std_dev_length_of_stay = clean_data[\"Length of Stay\"].std()\n",
    "\n",
    "print(\"Mean Length of Stay:\", mean_length_of_stay)\n",
    "print(\"Median Length of Stay:\", median_length_of_stay)\n",
    "print(\"Standard Deviation of Length of Stay:\", std_dev_length_of_stay)"
   ]
  },
  {
   "cell_type": "code",
   "execution_count": null,
   "id": "af0adfc1",
   "metadata": {},
   "outputs": [],
   "source": [
    "# Basic statistics\n",
    "statistics = {\n",
    "    \"Mean\": mean_length_of_stay,\n",
    "    \"Median\": median_length_of_stay,\n",
    "    \"Std Dev\": std_dev_length_of_stay\n",
    "}\n",
    "\n",
    "# Create a bar chart\n",
    "plt.figure(figsize=(8, 6))\n",
    "plt.bar(statistics.keys(), statistics.values(), color=['blue', 'green', 'orange'])\n",
    "plt.title(\"Basic Statistics of Length of Stay\")\n",
    "plt.ylabel(\"Value\")\n",
    "plt.savefig(f\"segment_visualisations/length_of_stay.png\")\n",
    "plt.show()"
   ]
  },
  {
   "cell_type": "code",
   "execution_count": null,
   "id": "0d4ad0f0",
   "metadata": {},
   "outputs": [],
   "source": [
    "pip install tabulate\n"
   ]
  },
  {
   "cell_type": "code",
   "execution_count": null,
   "id": "04111d01",
   "metadata": {},
   "outputs": [],
   "source": [
    "from tabulate import tabulate\n",
    "\n",
    "# Basic statistics\n",
    "statistics = [\n",
    "    [\"Mean\", mean_length_of_stay],\n",
    "    [\"Median\", median_length_of_stay],\n",
    "    [\"Std Dev\", std_dev_length_of_stay]\n",
    "]\n",
    "\n",
    "# Display statistics in table format\n",
    "table = tabulate(statistics, headers=[\"Statistic\", \"Value\"], tablefmt=\"grid\")\n",
    "print(table)\n"
   ]
  },
  {
   "cell_type": "code",
   "execution_count": null,
   "id": "e9bf3483",
   "metadata": {},
   "outputs": [],
   "source": [
    "# Create a histogram\n",
    "plt.figure(figsize=(8, 6))\n",
    "plt.hist(clean_data[\"Length of Stay\"], bins=20, edgecolor='k')\n",
    "plt.title(\"Histogram of Length of Stay\")\n",
    "plt.xlabel(\"Length of Stay\")\n",
    "plt.ylabel(\"Frequency\")\n",
    "plt.show()\n",
    "\n",
    "#The histogram provides a visual representation of how the values are \n",
    "#distributed across different ranges. The box plot gives you insights into \n",
    "#the central tendency, spread, and presence of potential outliers in the \n",
    "#distribution."
   ]
  },
  {
   "cell_type": "markdown",
   "id": "814e9412",
   "metadata": {},
   "source": [
    "# Step 2: Segmentation and Grouping"
   ]
  },
  {
   "cell_type": "code",
   "execution_count": null,
   "id": "2f226ebd",
   "metadata": {},
   "outputs": [],
   "source": [
    "# Segment the data based on different attributes. This will calculate the average length of stay for each combination of these categories.\n",
    "segments = [\"Age Group\", \"Gender\", \"Race\", \"Type of Admission\", \"Patient Disposition\"]\n",
    "\n",
    "for segment in segments:\n",
    "    grouped_data = clean_data.groupby(segment)[\"Length of Stay\"]\n",
    "    \n",
    "    # Calculate average length of stay for each segment\n",
    "    avg_length_of_stay = grouped_data.mean()\n",
    "    \n",
    "    print(f\"\\nSegment: {segment}\")\n",
    "    print(avg_length_of_stay)"
   ]
  },
  {
   "cell_type": "markdown",
   "id": "dfb53494",
   "metadata": {},
   "source": [
    "Based on the segment analysis, identify any trends or patterns in the data. For example, do certain age groups or admission types have longer stays on average? "
   ]
  },
  {
   "cell_type": "code",
   "execution_count": null,
   "id": "c416424e",
   "metadata": {
    "scrolled": true
   },
   "outputs": [],
   "source": [
    "#visually compare the average length of stay across different segments, \n",
    "#to identify any trends or differences\n",
    "\n",
    "# Create a folder to save the visualisations\n",
    "if not os.path.exists(\"segment_visualisations\"):\n",
    "    os.makedirs(\"segment_visualisations\")\n",
    "\n",
    "for segment in segments:\n",
    "    grouped_data = clean_data.groupby(segment)[\"Length of Stay\"]\n",
    "    \n",
    "    # Calculate average length of stay for each segment\n",
    "    avg_length_of_stay = grouped_data.mean()\n",
    "    \n",
    "    # Create a bar chart for the average length of stay\n",
    "    plt.figure(figsize=(10, 6))\n",
    "    sns.barplot(x=avg_length_of_stay.index, y=avg_length_of_stay.values)\n",
    "    plt.title(f\"Average Length of Stay by {segment}\")\n",
    "    plt.xlabel(segment)\n",
    "    plt.ylabel(\"Average Length of Stay\")\n",
    "    plt.xticks(rotation=90)\n",
    "    plt.tight_layout()\n",
    "    \n",
    "    # Save the visualization\n",
    "    plt.savefig(f\"segment_visualisations/{segment}_avg_length_of_stay.png\")\n",
    "    \n",
    "    plt.show()"
   ]
  },
  {
   "cell_type": "markdown",
   "id": "a2815067",
   "metadata": {},
   "source": [
    "# Step 3: Insights Generation"
   ]
  },
  {
   "cell_type": "markdown",
   "id": "994644d5",
   "metadata": {},
   "source": [
    "Explore the impact of patient disposition on length of stay. Are there certain dispositions that tend to result in longer stays?"
   ]
  },
  {
   "cell_type": "code",
   "execution_count": null,
   "id": "e54909d1",
   "metadata": {},
   "outputs": [],
   "source": [
    "# Explore the impact of patient disposition on length of stay\n",
    "plt.figure(figsize=(10, 6))\n",
    "sns.boxplot(x=\"Patient Disposition\", y=\"Length of Stay\", data=clean_data)\n",
    "plt.title(\"Impact of Patient Disposition on Length of Stay\")\n",
    "plt.xlabel(\"Patient Disposition\")\n",
    "plt.ylabel(\"Length of Stay\")\n",
    "plt.xticks(rotation=45)\n",
    "plt.tight_layout()\n",
    "\n",
    "# Save the visualization\n",
    "plt.savefig(\"segment_visualisations/patient_disposition_length_of_stay.png\")\n",
    "\n",
    "plt.show()"
   ]
  },
  {
   "cell_type": "code",
   "execution_count": null,
   "id": "2640a7d2",
   "metadata": {},
   "outputs": [],
   "source": [
    "# Calculate the total length of stay\n",
    "total_length_of_stay = clean_data[\"Length of Stay\"].sum()\n",
    "\n",
    "# Group data by gender and calculate total length of stay for each gender\n",
    "gender_grouped = clean_data.groupby(\"Gender\")[\"Length of Stay\"].sum()\n",
    "\n",
    "# Calculate the percentage of length of stay for each gender\n",
    "percentage_by_gender = (gender_grouped / total_length_of_stay) * 100\n",
    "\n",
    "# Create a pie chart\n",
    "plt.figure(figsize=(6, 6))\n",
    "plt.pie(percentage_by_gender, labels=percentage_by_gender.index, autopct=\"%1.1f%%\", startangle=140)\n",
    "plt.title(\"Percentage of Length of Stay by Gender\")\n",
    "plt.savefig(f\"segment_visualisations/percentage_by_gender.png\")\n",
    "\n",
    "plt.show()"
   ]
  },
  {
   "cell_type": "code",
   "execution_count": null,
   "id": "696c0697",
   "metadata": {},
   "outputs": [],
   "source": [
    "# Group data by patient disposition and calculate average length of stay\n",
    "avg_length_by_disposition = clean_data.groupby(\"Patient Disposition\")[\"Length of Stay\"].mean()\n",
    "\n",
    "# Create a DataFrame from the calculated results\n",
    "avg_length_df = pd.DataFrame({\n",
    "    \"Patient Disposition\": avg_length_by_disposition.index,\n",
    "    \"Average Length of Stay\": avg_length_by_disposition.values\n",
    "})\n",
    "\n",
    "# Display the DataFrame\n",
    "print(avg_length_df)"
   ]
  },
  {
   "cell_type": "code",
   "execution_count": null,
   "id": "6500d395",
   "metadata": {},
   "outputs": [],
   "source": [
    "avg_length_df.head(20)"
   ]
  },
  {
   "cell_type": "code",
   "execution_count": null,
   "id": "f3df5d01",
   "metadata": {},
   "outputs": [],
   "source": []
  }
 ],
 "metadata": {
  "kernelspec": {
   "display_name": "Python [conda env:PythonData] *",
   "language": "python",
   "name": "conda-env-PythonData-py"
  },
  "language_info": {
   "codemirror_mode": {
    "name": "ipython",
    "version": 3
   },
   "file_extension": ".py",
   "mimetype": "text/x-python",
   "name": "python",
   "nbconvert_exporter": "python",
   "pygments_lexer": "ipython3",
   "version": "3.7.7"
  }
 },
 "nbformat": 4,
 "nbformat_minor": 5
}
